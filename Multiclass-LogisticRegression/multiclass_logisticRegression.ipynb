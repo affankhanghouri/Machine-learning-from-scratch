{
 "cells": [
  {
   "cell_type": "code",
   "execution_count": 1,
   "id": "2db648aa",
   "metadata": {},
   "outputs": [],
   "source": [
    "import pandas as pd \n",
    "import numpy as np\n",
    "import matplotlib.pyplot as plt\n"
   ]
  },
  {
   "cell_type": "code",
   "execution_count": 3,
   "id": "027faee7",
   "metadata": {},
   "outputs": [],
   "source": [
    "#loading the dataset\n",
    "\n",
    "df = pd.read_csv('D:\\Machine-learning-from-scratch\\Multiclass-LogisticRegression\\Iris.csv')"
   ]
  },
  {
   "cell_type": "code",
   "execution_count": 4,
   "id": "0db75be1",
   "metadata": {},
   "outputs": [
    {
     "data": {
      "text/html": [
       "<div>\n",
       "<style scoped>\n",
       "    .dataframe tbody tr th:only-of-type {\n",
       "        vertical-align: middle;\n",
       "    }\n",
       "\n",
       "    .dataframe tbody tr th {\n",
       "        vertical-align: top;\n",
       "    }\n",
       "\n",
       "    .dataframe thead th {\n",
       "        text-align: right;\n",
       "    }\n",
       "</style>\n",
       "<table border=\"1\" class=\"dataframe\">\n",
       "  <thead>\n",
       "    <tr style=\"text-align: right;\">\n",
       "      <th></th>\n",
       "      <th>Id</th>\n",
       "      <th>SepalLengthCm</th>\n",
       "      <th>SepalWidthCm</th>\n",
       "      <th>PetalLengthCm</th>\n",
       "      <th>PetalWidthCm</th>\n",
       "      <th>Species</th>\n",
       "    </tr>\n",
       "  </thead>\n",
       "  <tbody>\n",
       "    <tr>\n",
       "      <th>0</th>\n",
       "      <td>1</td>\n",
       "      <td>5.1</td>\n",
       "      <td>3.5</td>\n",
       "      <td>1.4</td>\n",
       "      <td>0.2</td>\n",
       "      <td>Iris-setosa</td>\n",
       "    </tr>\n",
       "    <tr>\n",
       "      <th>1</th>\n",
       "      <td>2</td>\n",
       "      <td>4.9</td>\n",
       "      <td>3.0</td>\n",
       "      <td>1.4</td>\n",
       "      <td>0.2</td>\n",
       "      <td>Iris-setosa</td>\n",
       "    </tr>\n",
       "    <tr>\n",
       "      <th>2</th>\n",
       "      <td>3</td>\n",
       "      <td>4.7</td>\n",
       "      <td>3.2</td>\n",
       "      <td>1.3</td>\n",
       "      <td>0.2</td>\n",
       "      <td>Iris-setosa</td>\n",
       "    </tr>\n",
       "    <tr>\n",
       "      <th>3</th>\n",
       "      <td>4</td>\n",
       "      <td>4.6</td>\n",
       "      <td>3.1</td>\n",
       "      <td>1.5</td>\n",
       "      <td>0.2</td>\n",
       "      <td>Iris-setosa</td>\n",
       "    </tr>\n",
       "    <tr>\n",
       "      <th>4</th>\n",
       "      <td>5</td>\n",
       "      <td>5.0</td>\n",
       "      <td>3.6</td>\n",
       "      <td>1.4</td>\n",
       "      <td>0.2</td>\n",
       "      <td>Iris-setosa</td>\n",
       "    </tr>\n",
       "  </tbody>\n",
       "</table>\n",
       "</div>"
      ],
      "text/plain": [
       "   Id  SepalLengthCm  SepalWidthCm  PetalLengthCm  PetalWidthCm      Species\n",
       "0   1            5.1           3.5            1.4           0.2  Iris-setosa\n",
       "1   2            4.9           3.0            1.4           0.2  Iris-setosa\n",
       "2   3            4.7           3.2            1.3           0.2  Iris-setosa\n",
       "3   4            4.6           3.1            1.5           0.2  Iris-setosa\n",
       "4   5            5.0           3.6            1.4           0.2  Iris-setosa"
      ]
     },
     "execution_count": 4,
     "metadata": {},
     "output_type": "execute_result"
    }
   ],
   "source": [
    "df.head()"
   ]
  },
  {
   "cell_type": "code",
   "execution_count": 5,
   "id": "ab3ad370",
   "metadata": {},
   "outputs": [],
   "source": [
    "df.drop(columns=['Id'],inplace =True)"
   ]
  },
  {
   "cell_type": "code",
   "execution_count": 6,
   "id": "261a1a85",
   "metadata": {},
   "outputs": [
    {
     "data": {
      "text/plain": [
       "(150, 5)"
      ]
     },
     "execution_count": 6,
     "metadata": {},
     "output_type": "execute_result"
    }
   ],
   "source": [
    "df.shape"
   ]
  },
  {
   "cell_type": "code",
   "execution_count": 7,
   "id": "51eaac64",
   "metadata": {},
   "outputs": [],
   "source": [
    "x=df.iloc[:,:-1]\n",
    "y=df['Species']"
   ]
  },
  {
   "cell_type": "markdown",
   "id": "4908acd7",
   "metadata": {},
   "source": [
    "### applying custom label encoder on labels"
   ]
  },
  {
   "cell_type": "code",
   "execution_count": 8,
   "id": "6fde7e88",
   "metadata": {},
   "outputs": [],
   "source": [
    "from My_custom_preprocessing_utilis import My_custom_label_encoder\n",
    "\n",
    "le = My_custom_label_encoder()\n",
    "y= le.fit_transform(y)\n",
    "\n",
    "\n"
   ]
  },
  {
   "cell_type": "markdown",
   "id": "63d85152",
   "metadata": {},
   "source": [
    "### spilitting using custom train_test_split class"
   ]
  },
  {
   "cell_type": "code",
   "execution_count": 10,
   "id": "73d0334b",
   "metadata": {},
   "outputs": [],
   "source": [
    "from My_custom_preprocessing_utilis import my_train_test_split\n",
    "\n",
    "obj = my_train_test_split(x,y,test_size=0.10 , random_state=True , shuffle=True)\n",
    "\n",
    "X_train , X_test , y_train , y_test = obj.split()\n"
   ]
  },
  {
   "cell_type": "markdown",
   "id": "28a7eeab",
   "metadata": {},
   "source": [
    "### scaling data using custom standard scaler class"
   ]
  },
  {
   "cell_type": "code",
   "execution_count": 11,
   "id": "3d76d187",
   "metadata": {},
   "outputs": [],
   "source": [
    "from My_custom_preprocessing_utilis import My_standard_Scalar\n",
    "\n",
    "sc = My_standard_Scalar()\n",
    "\n",
    "X_train = sc.fit_transform(X_train)\n",
    "X_test = sc.transform(X_test)"
   ]
  },
  {
   "cell_type": "markdown",
   "id": "7879264e",
   "metadata": {},
   "source": [
    "### Training model using custom Multiclass logisticRegression class"
   ]
  },
  {
   "cell_type": "code",
   "execution_count": 12,
   "id": "6c1c0429",
   "metadata": {},
   "outputs": [
    {
     "name": "stdout",
     "output_type": "stream",
     "text": [
      "[EPOCH : 0  | loss : 1.0986]\n",
      "[EPOCH : 100  | loss : 0.3343]\n",
      "[EPOCH : 200  | loss : 0.2639]\n",
      "[EPOCH : 300  | loss : 0.2224]\n",
      "[EPOCH : 400  | loss : 0.1943]\n"
     ]
    }
   ],
   "source": [
    "from My_custom_multiclass_LogisticRegression import My_Multiclass_logisticRegression\n",
    "\n",
    "model = My_Multiclass_logisticRegression(X_train , y_train , learning_rate=0.1 , epochs=500)\n",
    "\n",
    "model.fit()"
   ]
  },
  {
   "cell_type": "markdown",
   "id": "0030b9af",
   "metadata": {},
   "source": [
    "### Evaluation model "
   ]
  },
  {
   "cell_type": "code",
   "execution_count": 14,
   "id": "118a478a",
   "metadata": {},
   "outputs": [
    {
     "name": "stdout",
     "output_type": "stream",
     "text": [
      "Accuracy score :  1.0\n"
     ]
    },
    {
     "data": {
      "text/plain": [
       "'\"\\nNote:\\nsince the dataset is very low just 150 rows  , model has memorized data , but overall the whole idea was just to implement \\ncustom multiclass logistic regression using numpy and it implemented well :)\\n\\n\\n'"
      ]
     },
     "execution_count": 14,
     "metadata": {},
     "output_type": "execute_result"
    }
   ],
   "source": [
    "y_pred_classes = model.predict(X_test)    \n",
    "\n",
    "def My_accuracy_score( y_test , y_pred):\n",
    "    correct = np.sum(y_test == y_pred)\n",
    "    total = len(y_test)\n",
    "    return correct / total\n",
    "\n",
    "\n",
    "print('Accuracy score : ',My_accuracy_score(y_test , y_pred_classes))\n",
    "\n",
    "\"\"\"\"\n",
    "Note:\n",
    "since the dataset is very low just 150 rows  , model has memorized data , but overall the whole idea was just to implement \n",
    "custom multiclass logistic regression using numpy and it implemented well :)\n",
    "\n",
    "\n",
    "\"\"\""
   ]
  },
  {
   "cell_type": "code",
   "execution_count": 15,
   "id": "dbb80ac7",
   "metadata": {},
   "outputs": [
    {
     "name": "stdout",
     "output_type": "stream",
     "text": [
      "Sample predictions: [1 0 2 1 1 0 1 2 1 1 2 0 0 0 0]\n",
      "True labels: [1 0 2 1 1 0 1 2 1 1 2 0 0 0 0]\n"
     ]
    }
   ],
   "source": [
    "print(\"Sample predictions:\", y_pred_classes[:15])\n",
    "print(\"True labels:\", y_test[:15])"
   ]
  },
  {
   "cell_type": "code",
   "execution_count": 16,
   "id": "2f8dffce",
   "metadata": {},
   "outputs": [
    {
     "data": {
      "image/png": "[encoded data removed]",
      "text/plain": [
       "<Figure size 800x500 with 1 Axes>"
      ]
     },
     "metadata": {},
     "output_type": "display_data"
    }
   ],
   "source": [
    "model.plot_loss()"
   ]
  },
  {
   "cell_type": "code",
   "execution_count": null,
   "id": "73939fe8",
   "metadata": {},
   "outputs": [],
   "source": []
  }
 ],
 "metadata": {
  "kernelspec": {
   "display_name": "venv (3.13.5)",
   "language": "python",
   "name": "python3"
  },
  "language_info": {
   "codemirror_mode": {
    "name": "ipython",
    "version": 3
   },
   "file_extension": ".py",
   "mimetype": "text/x-python",
   "name": "python",
   "nbconvert_exporter": "python",
   "pygments_lexer": "ipython3",
   "version": "3.13.5"
  }
 },
 "nbformat": 4,
 "nbformat_minor": 5
}
